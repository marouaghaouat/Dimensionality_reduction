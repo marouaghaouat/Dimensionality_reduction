{
  "nbformat": 4,
  "nbformat_minor": 0,
  "metadata": {
    "colab": {
      "provenance": [],
      "toc_visible": true
    },
    "kernelspec": {
      "name": "ir",
      "display_name": "R"
    },
    "language_info": {
      "name": "R"
    }
  },
  "cells": [
    {
      "cell_type": "markdown",
      "source": [
        "# **<h1 align=\"center\">Projet `Finite Mixtures & Co-clustering`</h1>**\n",
        "\n",
        "<h2 align=\"center\">🤖 Maroua GHAOUAT 🤖</h2>\n",
        "<h3 align=\"center\"><code>AMSD</code></h3>\n",
        "\n",
        "    \n",
        "## Objectif du Projet\n",
        "BBC News est un ensemble de données composé d'articles de presse. Pour ce projet, nous explorerons deux formats de données différents : 1) une matrice de document-terme, et 2) des embeddings de documents générés à l'aide du modèle JOSE. Le fichier bbc_dataset.mat comprend ces deux formats ainsi que les labels, qui serviront à évaluer les performances des algorithmes de clustering utilisés.\n",
        "## Composantes du Projet\n",
        "\n",
        "Les sections que nous aborderons dans ce projet sont :\n",
        "\n",
        "* K-Means simple\n",
        "* Spherical K-Means  \n",
        "* L'algorithme EM\n",
        "\n",
        "---\n",
        "\n",
        "# Installation des librairies et chargement des données"
      ],
      "metadata": {
        "id": "IURcVjBt9JZv"
      }
    },
    {
      "cell_type": "code",
      "execution_count": null,
      "metadata": {
        "colab": {
          "base_uri": "https://localhost:8080/"
        },
        "id": "Ko0itZWfs3Zr",
        "outputId": "8502c267-5caa-46bf-c119-2c29091d1efe"
      },
      "outputs": [
        {
          "output_type": "stream",
          "name": "stderr",
          "text": [
            "Installing packages into ‘/usr/local/lib/R/site-library’\n",
            "(as ‘lib’ is unspecified)\n",
            "\n",
            "also installing the dependencies ‘R.oo’, ‘R.utils’, ‘clue’\n",
            "\n",
            "\n",
            "R.matlab v3.7.0 (2022-08-25 21:52:34 UTC) successfully loaded. See ?R.matlab for help.\n",
            "\n",
            "\n",
            "Attaching package: ‘R.matlab’\n",
            "\n",
            "\n",
            "The following objects are masked from ‘package:base’:\n",
            "\n",
            "    getOption, isOpen\n",
            "\n",
            "\n"
          ]
        }
      ],
      "source": [
        "# Charger les bibliothèques nécessaires\n",
        "install.packages(c(\"R.matlab\", \"NbClust\", \"skmeans\", \"movMF\",\"mclust\",\"cluster\",\"aricode\"))\n",
        "library(R.matlab)\n",
        "library(NbClust)\n",
        "library(skmeans)\n",
        "library(movMF)\n",
        "library(cluster)\n",
        "library(mclust)\n",
        "library(aricode)"
      ]
    },
    {
      "cell_type": "code",
      "source": [
        "# Télécharger le fichier bbc_dataset.mat\n",
        "url <- \"https://cifre.s3.eu-north-1.amazonaws.com/bbc_dataset.mat\"\n",
        "destination_file <- \"bbc_dataset.mat\"\n",
        "download.file(url, destfile = destination_file, method = \"auto\")"
      ],
      "metadata": {
        "id": "UXVUiQHjs-UU"
      },
      "execution_count": null,
      "outputs": []
    },
    {
      "cell_type": "code",
      "source": [
        "# Charger les données depuis le fichier\n",
        "bbc_dataset <- readMat(destination_file)\n",
        "\n",
        "bbc_jose <- bbc_dataset$jose\n",
        "bbc_doc_term <- bbc_dataset$doc.term\n",
        "\n",
        "bbc_labels <- as.vector(bbc_dataset$labels)"
      ],
      "metadata": {
        "id": "p-0UNPBBtAkl"
      },
      "execution_count": null,
      "outputs": []
    },
    {
      "cell_type": "markdown",
      "source": [
        "---\n",
        "# 1. Dimension des datasets :"
      ],
      "metadata": {
        "id": "uGWgO0zR84oL"
      }
    },
    {
      "cell_type": "code",
      "source": [
        "# Document-terme\n",
        "dim_bbc_doc_term <- dim(bbc_doc_term)\n",
        "cat(\"Nombre de documents dans bbc_doc_term :\", dim_bbc_doc_term[1], \"\\n\")\n",
        "cat(\"Nombre de mots dans bbc_doc_term (taille de la dimension) :\", dim_bbc_doc_term[2], \"\\n\")\n",
        "\n",
        "# Embeddings\n",
        "dim_bbc_jose <- dim(bbc_jose)\n",
        "cat(\"Nombre de documents dans bbc_jose :\", dim_bbc_jose[1], \"\\n\")\n",
        "cat(\"Nombre de mots dans bbc_jose (taille de la dimension) :\", dim_bbc_jose[2], \"\\n\")"
      ],
      "metadata": {
        "colab": {
          "base_uri": "https://localhost:8080/"
        },
        "id": "C2NXkZRptrbm",
        "outputId": "72bb49c4-4afa-42cd-9e4e-315e34e59e95"
      },
      "execution_count": null,
      "outputs": [
        {
          "output_type": "stream",
          "name": "stdout",
          "text": [
            "Nombre de documents dans bbc_jose : 2225 \n",
            "Nombre de mots dans bbc_jose (taille de la dimension) : 100 \n",
            "Nombre de documents dans bbc_doc_term : 2225 \n",
            "Nombre de mots dans bbc_doc_term (taille de la dimension) : 2000 \n"
          ]
        }
      ]
    },
    {
      "cell_type": "markdown",
      "source": [
        "# 2. Exécuter tous les algorithmes de clustering avec le vrai nombre de classes (5)\n",
        "## 2.1. K-means\n",
        "### 2.1.1 K-means sur la matrice document-terme\n"
      ],
      "metadata": {
        "id": "YNJmY6QT1tYc"
      }
    },
    {
      "cell_type": "code",
      "source": [
        "# K-means\n",
        "# kmeans_clusters_docterm <- kmeans(bbc_doc_term, centers = 5)$cluster\n",
        "kmeans_clusters_docterm <- NbClust(bbc_doc_term, method = \"kmeans\", distance = \"euclidean\", index = \"silhouette\", min.nc = 5, max.nc = 5)$Best.partition\n",
        "\n",
        "# Matrice de confusion\n",
        "cat(\"Matrice de confusion du k-means sur la matrice document-terme :\")\n",
        "table(bbc_labels, kmeans_clusters_docterm)\n",
        "\n",
        "# NMI\n",
        "nmi_km_docterm<-NMI(kmeans_clusters_docterm, bbc_labels)\n",
        "cat(\"NMI du k-means sur la matrice document-terme :\",nmi_km_docterm)\n",
        "cat(\"\\n\")\n",
        "# ARI\n",
        "ari_km_docterm<-ARI(kmeans_clusters_docterm,bbc_labels)\n",
        "cat(\"ARI du k-means sur la matrice document-terme :\",ari_km_docterm)"
      ],
      "metadata": {
        "colab": {
          "base_uri": "https://localhost:8080/",
          "height": 191
        },
        "id": "RuAEvDBetxJ8",
        "outputId": "ece55186-8772-4962-96ee-6f62b008dc72"
      },
      "execution_count": null,
      "outputs": [
        {
          "output_type": "stream",
          "name": "stdout",
          "text": [
            "Matrice de confusion du k-means sur la matrice document-terme :"
          ]
        },
        {
          "output_type": "display_data",
          "data": {
            "text/plain": [
              "          kmeans_clusters_docterm\n",
              "bbc_labels   1   2   3   4   5\n",
              "         0 155   1 131  52  62\n",
              "         1 208   0  71 219  12\n",
              "         2 155   0  53 284  19\n",
              "         3 118   3  45 216   4\n",
              "         4 137   3 192  72  13"
            ]
          },
          "metadata": {}
        },
        {
          "output_type": "stream",
          "name": "stdout",
          "text": [
            "NMI du k-means sur la matrice document-terme : 0.07111618\n",
            "ARI du k-means sur la matrice document-terme : 0.05932244"
          ]
        }
      ]
    },
    {
      "cell_type": "code",
      "source": [
        "# K-means\n",
        "# kmeans_clusters_docterm <- kmeans(bbc_doc_term, centers = 5)$cluster\n",
        "kmeans_clusters_docterm <- NbClust(bbc_doc_term, method = \"kmeans\", distance = \"euclidean\", index = \"silhouette\", min.nc = 5, max.nc = 5)$Best.partition\n",
        "\n",
        "# Matrice de confusion\n",
        "cat(\"Matrice de confusion du k-means sur la matrice document-terme :\")\n",
        "table(bbc_labels, kmeans_clusters_docterm)\n",
        "\n",
        "# NMI\n",
        "nmi_km_docterm<-NMI(kmeans_clusters_docterm, bbc_labels)\n",
        "cat(\"NMI du k-means sur la matrice document-terme :\",nmi_km_docterm)\n",
        "cat(\"\\n\")\n",
        "# ARI\n",
        "ari_km_docterm<-ARI(kmeans_clusters_docterm,bbc_labels)\n",
        "cat(\"ARI du k-means sur la matrice document-terme :\",ari_km_docterm)"
      ],
      "metadata": {
        "colab": {
          "base_uri": "https://localhost:8080/",
          "height": 191
        },
        "id": "Z7YOfVuc_RKu",
        "outputId": "bd67691f-0d05-4aab-9711-b2ebe557a31e"
      },
      "execution_count": null,
      "outputs": [
        {
          "output_type": "stream",
          "name": "stdout",
          "text": [
            "Matrice de confusion du k-means sur la matrice document-terme :"
          ]
        },
        {
          "output_type": "display_data",
          "data": {
            "text/plain": [
              "          kmeans_clusters_docterm\n",
              "bbc_labels   1   2   3   4   5\n",
              "         0   1 155  52 131  62\n",
              "         1   0 209 218  71  12\n",
              "         2   0 156 283  53  19\n",
              "         3   3 120 214  45   4\n",
              "         4   3 137  72 192  13"
            ]
          },
          "metadata": {}
        },
        {
          "output_type": "stream",
          "name": "stdout",
          "text": [
            "NMI du k-means sur la matrice document-terme : 0.07069438\n",
            "ARI du k-means sur la matrice document-terme : 0.0587591"
          ]
        }
      ]
    },
    {
      "cell_type": "markdown",
      "source": [
        "### 2.1.2 K-means sur les embeddings"
      ],
      "metadata": {
        "id": "Sv64sU9F2DhK"
      }
    },
    {
      "cell_type": "code",
      "source": [
        "# K-means\n",
        "kmeans_clusters_jose <- NbClust(bbc_jose, method = \"kmeans\", distance = \"euclidean\", index = \"silhouette\", min.nc = 5, max.nc = 5)$Best.partition\n",
        "  # kmeans(bbc_jose, centers = 5)$cluster\n",
        "\n",
        "# Matrice de confusion\n",
        "cat(\"Matrice de confusion du k-means sur les embeddings :\")\n",
        "table(bbc_labels, kmeans_clusters_jose)\n",
        "\n",
        "# NMI\n",
        "nmi_km_jose<-NMI(kmeans_clusters_jose,bbc_labels)\n",
        "cat(\"NMI du k-means sur les embeddings :\",nmi_km_jose)\n",
        "cat(\"\\n\")\n",
        "# ARI\n",
        "ari_km_jose<-ARI(kmeans_clusters_jose,bbc_labels)\n",
        "cat(\"ARI du k-means sur les embeddings :\",ari_km_jose)"
      ],
      "metadata": {
        "colab": {
          "base_uri": "https://localhost:8080/",
          "height": 191
        },
        "id": "TJVkgN2i2E45",
        "outputId": "65833819-f83f-43fb-bdf5-13e35702dd90"
      },
      "execution_count": null,
      "outputs": [
        {
          "output_type": "stream",
          "name": "stdout",
          "text": [
            "Matrice de confusion du k-means sur les embeddings :"
          ]
        },
        {
          "output_type": "display_data",
          "data": {
            "text/plain": [
              "          kmeans_clusters_jose\n",
              "bbc_labels   1   2   3   4   5\n",
              "         0  10   1   9   4 377\n",
              "         1 481   0   3  15  11\n",
              "         2   3 501   5   2   0\n",
              "         3   1   1 370   4  10\n",
              "         4   9   4   2 396   6"
            ]
          },
          "metadata": {}
        },
        {
          "output_type": "stream",
          "name": "stdout",
          "text": [
            "NMI du k-means sur les embeddings : 0.8572789\n",
            "ARI du k-means sur les embeddings : 0.8938261"
          ]
        }
      ]
    },
    {
      "cell_type": "markdown",
      "source": [
        "## 2.2. Spherical K-means\n",
        "### 2.2.1 Spherical K-means sur la matrice document-terme"
      ],
      "metadata": {
        "id": "ZfWGpUew3bft"
      }
    },
    {
      "cell_type": "code",
      "source": [
        "# SK-means\n",
        "skmeans_clusters_docterm <- skmeans(bbc_doc_term, 5)$cluster\n",
        "\n",
        "# Matrice de confusion\n",
        "cat(\"Matrice de confusion du Spherical k-means sur la matrice document-terme  :\")\n",
        "table(bbc_labels, skmeans_clusters_docterm)\n",
        "\n",
        "# NMI\n",
        "nmi_skm_docterm<-NMI(skmeans_clusters_docterm,bbc_labels)\n",
        "cat(\"NMI du Spherical k-means sur la matrice document-terme :\",nmi_skm_docterm)\n",
        "cat(\"\\n\")\n",
        "# ARI\n",
        "ari_skm_docterm<-ARI(skmeans_clusters_docterm,bbc_labels)\n",
        "cat(\"ARI du Spherical k-means sur la matrice document-terme :\",ari_skm_docterm)"
      ],
      "metadata": {
        "colab": {
          "base_uri": "https://localhost:8080/",
          "height": 191
        },
        "id": "NsGKECOR3a7P",
        "outputId": "0209554b-c654-4031-9b15-7ffe6c4732f5"
      },
      "execution_count": null,
      "outputs": [
        {
          "output_type": "stream",
          "name": "stdout",
          "text": [
            "Matrice de confusion du Spherical k-means sur la matrice document-terme  :"
          ]
        },
        {
          "output_type": "display_data",
          "data": {
            "text/plain": [
              "          skmeans_clusters_docterm\n",
              "bbc_labels   1   2   3   4   5\n",
              "         0  11  95 267  26   2\n",
              "         1  23 143 124 220   0\n",
              "         2   3 105  18  85 300\n",
              "         3  29 233  36  59  29\n",
              "         4 203  92 106  11   5"
            ]
          },
          "metadata": {}
        },
        {
          "output_type": "stream",
          "name": "stdout",
          "text": [
            "NMI du Spherical k-means sur la matrice document-terme : 0.2729315\n",
            "ARI du Spherical k-means sur la matrice document-terme : 0.2086041"
          ]
        }
      ]
    },
    {
      "cell_type": "markdown",
      "source": [
        "### 2.2.2 Spherical K-means sur les embeddings :"
      ],
      "metadata": {
        "id": "DibvWjQS4VsF"
      }
    },
    {
      "cell_type": "code",
      "source": [
        "# SK-means\n",
        "skmeans_clusters_jose <- skmeans(bbc_jose, 5)$cluster\n",
        "\n",
        "# Matrice de confusion\n",
        "cat(\"Matrice de confusion du Spherical k-means sur les embeddings  :\")\n",
        "table(bbc_labels, skmeans_clusters_jose)\n",
        "\n",
        "# NMI\n",
        "nmi_skm_jose<-NMI(skmeans_clusters_jose,bbc_labels)\n",
        "cat(\"NMI du Spherical k-means sur les embeddings :\",nmi_skm_jose)\n",
        "cat(\"\\n\")\n",
        "# ARI\n",
        "ari_skm_jose<-ARI(skmeans_clusters_jose,bbc_labels)\n",
        "cat(\"ARI du Spherical k-means sur les embeddings :\",ari_skm_jose)"
      ],
      "metadata": {
        "colab": {
          "base_uri": "https://localhost:8080/",
          "height": 191
        },
        "id": "DAjAXgJ0yNph",
        "outputId": "153ebe00-ce15-4f98-b4b1-fdf193cfb96e"
      },
      "execution_count": null,
      "outputs": [
        {
          "output_type": "stream",
          "name": "stdout",
          "text": [
            "Matrice de confusion du Spherical k-means sur les embeddings  :"
          ]
        },
        {
          "output_type": "display_data",
          "data": {
            "text/plain": [
              "          skmeans_clusters_jose\n",
              "bbc_labels   1   2   3   4   5\n",
              "         0 375   9  11   1   5\n",
              "         1  11   3 479   1  16\n",
              "         2   0   4   3 502   2\n",
              "         3   9 366   6   1   4\n",
              "         4   6   2   9   4 396"
            ]
          },
          "metadata": {}
        },
        {
          "output_type": "stream",
          "name": "stdout",
          "text": [
            "NMI du Spherical k-means sur les embeddings : 0.8476665\n",
            "ARI du Spherical k-means sur les embeddings : 0.8863287"
          ]
        }
      ]
    },
    {
      "cell_type": "markdown",
      "source": [
        "## 2.3. EM\n",
        "### 2.3.1 EM sur la matrice document-terme"
      ],
      "metadata": {
        "id": "Is4fqmu14tK0"
      }
    },
    {
      "cell_type": "code",
      "source": [
        "# EM (movMF)\n",
        "res_movMF_docterm <- movMF(bbc_doc_term, 5, nruns = 10, maxit = 100, kappa = list(common = TRUE))\n",
        "movMF_clusters_docterm <- apply(res_movMF$P, 1, which.max)\n",
        "\n",
        "# Matrice de confusion\n",
        "cat(\"Matrice de confusion du EM sur la matrice document-terme  :\")\n",
        "table(bbc_labels, movMF_clusters_docterm)\n",
        "\n",
        "# NMI\n",
        "nmi_em_docterm<-NMI(movMF_clusters_docterm,bbc_labels)\n",
        "cat(\"NMI du EM sur la matrice document-terme :\",nmi_em_docterm)\n",
        "cat(\"\\n\")\n",
        "# ARI\n",
        "ari_em_docterm<-ARI(movMF_clusters_docterm,bbc_labels)\n",
        "cat(\"ARI du EM sur la matrice document-terme :\",ari_em_docterm)"
      ],
      "metadata": {
        "colab": {
          "base_uri": "https://localhost:8080/",
          "height": 191
        },
        "id": "D0-2EzuDyNs4",
        "outputId": "0a14930d-1b5b-442a-9de9-668d5be76866"
      },
      "execution_count": null,
      "outputs": [
        {
          "output_type": "stream",
          "name": "stdout",
          "text": [
            "Matrice de confusion du EM sur la matrice document-terme  :"
          ]
        },
        {
          "output_type": "display_data",
          "data": {
            "text/plain": [
              "          movMF_clusters_docterm\n",
              "bbc_labels   1   2   3   4   5\n",
              "         0 373   5  12   2   9\n",
              "         1  11  16 479   1   3\n",
              "         2   0   2   3 502   4\n",
              "         3   9   4   6   1 366\n",
              "         4   6 396   9   4   2"
            ]
          },
          "metadata": {}
        },
        {
          "output_type": "stream",
          "name": "stdout",
          "text": [
            "NMI du EM sur la matrice document-terme : 0.8451155\n",
            "ARI du EM sur la matrice document-terme : 0.8842357"
          ]
        }
      ]
    },
    {
      "cell_type": "markdown",
      "source": [
        "\n",
        "### 2.3.2 EM sur les embeddings :"
      ],
      "metadata": {
        "id": "q9aYV-CF4z25"
      }
    },
    {
      "cell_type": "code",
      "source": [
        "# EM (movMF)\n",
        "res_movMF_jose <- movMF(bbc_jose, 5, nruns = 10, maxit = 100, kappa = list(common = TRUE))\n",
        "movMF_clusters_jose <- apply(res_movMF$P, 1, which.max)\n",
        "\n",
        "# Matrice de confusion\n",
        "cat(\"Matrice de confusion du EM sur les embeddings  :\")\n",
        "table(bbc_labels, movMF_clusters_jose)\n",
        "\n",
        "# NMI\n",
        "nmi_em_jose<-NMI(movMF_clusters_jose,bbc_labels)\n",
        "cat(\"NMI du EM sur les embeddings :\",nmi_em_jose)\n",
        "\n",
        "# ARI\n",
        "ari_em_jose<-ARI(movMF_clusters_jose,bbc_labels)\n",
        "cat(\"\\n\")\n",
        "cat(\"ARI du EM sur les embeddings :\",ari_em_jose)"
      ],
      "metadata": {
        "colab": {
          "base_uri": "https://localhost:8080/",
          "height": 191
        },
        "id": "BPXzw0pMyNwq",
        "outputId": "a29e3fa9-e05e-4e71-b7af-0fa71a9e4fd9"
      },
      "execution_count": null,
      "outputs": [
        {
          "output_type": "stream",
          "name": "stdout",
          "text": [
            "Matrice de confusion du EM sur les embeddings  :"
          ]
        },
        {
          "output_type": "display_data",
          "data": {
            "text/plain": [
              "          movMF_clusters_jose\n",
              "bbc_labels   1   2   3   4   5\n",
              "         0 373   5  12   2   9\n",
              "         1  11  16 479   1   3\n",
              "         2   0   2   3 502   4\n",
              "         3   9   4   6   1 366\n",
              "         4   6 396   9   4   2"
            ]
          },
          "metadata": {}
        },
        {
          "output_type": "stream",
          "name": "stdout",
          "text": [
            "NMI du EM sur les embeddings : 0.8451155\n",
            "ARI du EM sur les embeddings : 0.8842357"
          ]
        }
      ]
    },
    {
      "cell_type": "markdown",
      "source": [
        "## 5. Commentaires :\n",
        "\n",
        "Dans leur article (Meng et al. 2019) ont précisé qu'il y a un écart intrigant entre la procédure d'entraînement et les utilisations pratiques des embeddings entrainé. Alors que les embeddings sont appris dans l'espace euclidien, c'est souvent la similarité directionnelle entre les vecteurs de mots qui capture plus efficacement la sémantique des mots.\n",
        "\n",
        "Pour cela, il est courant d'utiliser la similarité cosinus comme mesure de similarité (JoSE) ou de normaliser d'abord les vecteurs de mots et de documents avant de calculer les similarités textuelles (Matrice document-terme).\n",
        "\n",
        "\n",
        "* En projetant sur notre travail, sur le dataset BBC News, nous avons évalué les deux méthodes (sur trois algorithmes de clsutering : K-means, Spherical k-means et l'EM. Sur l'ensemble des algorithmes de clustering, nous remarquons toujours que les résultats d'évaluation en termes de NMI et ARI sont meilleurs en effectuant le clustering directement sur les embeddings avec l'algorithme JOSE que le clustering sur la matrice document-terme.\n",
        "> Ceci est dû au fait qu'après la projection de l'embedding de l'espace euclidien à l'espace sphérique, la solution optimale à la fonction de perte dans l'espace d'origine peut ne pas rester optimale dans le nouvel espace.\n",
        "\n",
        "* Nous remarquons que le k-means sur la matrice document-terme prend beaucoup de temps à s'exécuter par rapport au k-means sur les embeddings.\n",
        "> Ce qui est logique vu qu'il se passe une étape supplémentaire de calcul d'embedding dans l'espace euclidien, ensuite la projection sur un nouvel espace pour avoir la similarité textuelle.\n",
        "\n",
        "\n",
        "* En comparant entre les performances des trois algorithmes en termes de NMI et ARI, nous trouvons que EM > Spherical K-means > K-means (Or, sur le format d'embeddings, EM et Spherical K-means sont équivalents en termes de performances)\n",
        "> Les données textuelles sont de nature directionnelles, ce qui fait que le Spherical k-means est mieux adapté à ces données que le k-means simple. Mais le Spherical k-means est dépassé par l'algorithme EM car ce dernier est particulièrement adapté pour modéliser des données distribuées selon une distribution de von Mises-Fisher, qui est couramment utilisée pour modéliser des données directionnelles dans l'espace sphérique. Cette distribution est souvent plus appropriée pour les embeddings de texte dans l'espace sphérique. De plus, en plus du clustering, l'algorithme EM effectue une estimation des paramètres du modèle (moyenne, concentration, etc.) par le biais de l'optimisation itérative de la log-vraisemblance. Cette approche peut permettre d'ajuster plus précisément les clusters aux données que Spherical K-Means, qui utilise une approche heuristique basée sur des distances angulaires."
      ],
      "metadata": {
        "id": "1oRQeph7_U5A"
      }
    },
    {
      "cell_type": "markdown",
      "source": [
        "# 6. L'algorithme EM avec d'autres nombre de clusters"
      ],
      "metadata": {
        "id": "IOkmsdqvNY8C"
      }
    },
    {
      "cell_type": "code",
      "source": [
        "# Fonction pour effectuer le clustering, calculer NMI et ARI, et renvoyer les résultats\n",
        "perform_clustering <- function(data, labels, num_clusters) {\n",
        "  # Exécuter le clustering EM (movMF)\n",
        "  res_movMF <- movMF(data, num_clusters, nruns = 10, maxit = 100, kappa = list(common = TRUE))\n",
        "  movMF_clusters <- apply(res_movMF$P, 1, which.max)\n",
        "\n",
        "  # Calculer NMI et ARI\n",
        "  nmi_value <- NMI(movMF_clusters, labels)\n",
        "  ari_value <- ARI(movMF_clusters, labels)\n",
        "\n",
        "  # Retourner les résultats\n",
        "  return(list(nmi = nmi_value, ari = ari_value))\n",
        "}\n",
        "\n",
        "# Données\n",
        "data_jose <- bbc_jose\n",
        "data_doc_term <- bbc_doc_term\n",
        "labels <- bbc_labels\n",
        "\n",
        "# Nombre de clusters à tester\n",
        "num_clusters_list <- c(3, 4, 5, 6)\n",
        "\n",
        "# Initialiser des listes pour stocker les résultats\n",
        "nmi_results_jose <- numeric(length(num_clusters_list))\n",
        "ari_results_jose <- numeric(length(num_clusters_list))\n",
        "\n",
        "nmi_results_docterm <- numeric(length(num_clusters_list))\n",
        "ari_results_docterm <- numeric(length(num_clusters_list))\n",
        "\n",
        "# Boucle sur différents nombres de clusters\n",
        "for (i in seq_along(num_clusters_list)) {\n",
        "  # Pour bbc_jose\n",
        "  results_jose <- perform_clustering(data_jose, labels, num_clusters_list[i])\n",
        "  nmi_results_jose[i] <- results_jose$nmi\n",
        "  ari_results_jose[i] <- results_jose$ari\n",
        "\n",
        "  # Pour bbc_doc_term\n",
        "  results_docterm <- perform_clustering(data_doc_term, labels, num_clusters_list[i])\n",
        "  nmi_results_docterm[i] <- results_docterm$nmi\n",
        "  ari_results_docterm[i] <- results_docterm$ari\n",
        "}\n",
        "\n",
        "# Créer un bar plot\n",
        "barplot(\n",
        "  rbind(nmi_results_jose, ari_results_jose, nmi_results_docterm, ari_results_docterm),\n",
        "  beside = TRUE,\n",
        "  col = c(\"blue\", \"darkgreen\", \"red\", \"orange\"),\n",
        "  names.arg = num_clusters_list,\n",
        "  legend.text = c(\"NMI bbc_jose\", \"ARI bbc_jose\", \"NMI bbc_doc_term\", \"ARI bbc_doc_term\"),\n",
        "  args.legend = list(x = \"topright\", bty = \"n\", inset = c(0.05, 0)),\n",
        "  main = \"Comparaison NMI et ARI pour différents nombres de clusters pour l'algorithme EM\"\n",
        ")\n"
      ],
      "metadata": {
        "colab": {
          "base_uri": "https://localhost:8080/",
          "height": 437
        },
        "id": "7OsSPga7KZWX",
        "outputId": "e428401c-bfea-4b08-d09d-22026e55b391"
      },
      "execution_count": null,
      "outputs": [
        {
          "output_type": "display_data",
          "data": {
            "text/plain": [
              "Plot with title “Comparaison NMI et ARI pour différents nombres de clusters pour l'algorithme EM”"
            ],
            "image/png": "[encoded data removed]"
          },
          "metadata": {
            "image/png": {
              "width": 420,
              "height": 420
            }
          }
        }
      ]
    },
    {
      "cell_type": "markdown",
      "source": [
        "Nous voulons voir que donnera le meilleur algorithme de clustering : EM avec d'autres nombre de clusters. Nous effectuons le clustering pour un nombre  de clusters = 3, 4, 5 et 6.\n",
        "En comparant les performances nous constatons que le meilleur nombre de clsuters adapté à notre dataset :\n",
        "* Est égal à 5 sur le format des embeddings JoSE.\n",
        "* Est égal à 6 sur le format de la amtrice document-terme."
      ],
      "metadata": {
        "id": "9ARNWJGcNfrX"
      }
    }
  ]
}